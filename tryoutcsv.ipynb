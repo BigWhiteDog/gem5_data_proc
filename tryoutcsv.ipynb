{
 "cells": [
  {
   "cell_type": "code",
   "execution_count": 19,
   "metadata": {},
   "outputs": [
    {
     "name": "stdout",
     "output_type": "stream",
     "text": [
      "=====================\n",
      "stage 0\n",
      "=====================\n",
      " cpu0.ipc  cpu1.ipc  cpu2.ipc  cpu3.ipc\n",
      " 1.574802  1.534902  1.601239  1.576375\n",
      " 1.543728  1.543148  1.604699  1.574086\n",
      " 1.590759  1.532161  1.602620  1.561048\n",
      " cpu0.cycle  cpu1.cycle  cpu2.cycle  cpu3.cycle\n",
      "    4877079     4760104     6161136     5685985\n",
      "    6848263     4826462     6012352     5625911\n",
      "    6647294     4827428     6155849     5446865\n",
      " l3_misses0  l3_misses1  l3_misses2  l3_misses3\n",
      "      12736       12219       18105       15864\n",
      "      17753       10343       17095       14982\n",
      "      18890       13001       19418       16148\n",
      " cpu0.ipc  cpu1.ipc  cpu2.ipc  cpu3.ipc  cpu0.cycle  cpu1.cycle  cpu2.cycle  cpu3.cycle  l3_misses0  l3_misses1  l3_misses2  l3_misses3\n",
      " 1.574802  1.534902  1.601239  1.576375     4877079     4760104     6161136     5685985       12736       12219       18105       15864\n",
      " 1.543728  1.543148  1.604699  1.574086     6848263     4826462     6012352     5625911       17753       10343       17095       14982\n",
      " 1.590759  1.532161  1.602620  1.561048     6647294     4827428     6155849     5446865       18890       13001       19418       16148\n",
      "=====================\n",
      "stage 1\n",
      "=====================\n",
      " cpu0.ipc  cpu1.ipc  cpu2.ipc  cpu3.ipc\n",
      " 1.551231  1.553759  1.562109  1.559861\n",
      " 1.558478  1.547424  1.558017  1.567812\n",
      " 1.557854  1.523799  1.561303  1.557996\n",
      " cpu0.cycle  cpu1.cycle  cpu2.cycle  cpu3.cycle\n",
      "    6815602     4508204     6315651     6376727\n",
      "    6765566     4505637     6332233     6344217\n",
      "    6786674     4890153     6318459     6384181\n",
      " l3_misses0  l3_misses1  l3_misses2  l3_misses3\n",
      "      19273       13442       19440       20127\n",
      "      19316       12200       19887       19334\n",
      "      19418       13578       19422       20173\n",
      " cpu0.ipc  cpu1.ipc  cpu2.ipc  cpu3.ipc  cpu0.cycle  cpu1.cycle  cpu2.cycle  cpu3.cycle  l3_misses0  l3_misses1  l3_misses2  l3_misses3\n",
      " 1.551231  1.553759  1.562109  1.559861     6815602     4508204     6315651     6376727       19273       13442       19440       20127\n",
      " 1.558478  1.547424  1.558017  1.567812     6765566     4505637     6332233     6344217       19316       12200       19887       19334\n",
      " 1.557854  1.523799  1.561303  1.557996     6786674     4890153     6318459     6384181       19418       13578       19422       20173\n"
     ]
    }
   ],
   "source": [
    "import numpy as np\n",
    "import pandas as pd\n",
    "import json\n",
    "import utils.insert_avg_dict as iad\n",
    "json_path = '/nfs/home/zhangchuanqi/lvna/5g/ff-reshape/log/new_hw_test/period_hmmer_o3_0-period_hmmer_o3_3-period_hmmer_o2_0-period_hmmer_o2_2/2560kBLLC/9tti/try-waymask/l3-nopart/l2-nopart/8period.json'\n",
    "ncore=4\n",
    "last_nsamples=8\n",
    "stage_len=4\n",
    "nstage = last_nsamples // stage_len\n",
    "with open(json_path) as f:\n",
    "    data = json.load(f)\n",
    "iad.insert_avg_dict(data,last_nsamples=last_nsamples)\n",
    "\n",
    "for j in range(nstage):\n",
    "    print('=====================')\n",
    "    print(f'stage {j}')\n",
    "    print('=====================')\n",
    "    indexs = list(range(j*stage_len+1,(j+1)*stage_len))\n",
    "    ipc_dict = {}\n",
    "    cycle_dict = {}\n",
    "    mpki_dict = {}\n",
    "    misses_dict = {}\n",
    "    # all_dicts = [ipc_dict,cycle_dict,mpki_dict,misses_dict]\n",
    "    all_dicts = [ipc_dict,cycle_dict,misses_dict]\n",
    "    big_dict = {}\n",
    "    for i in range(ncore):\n",
    "        ipc_dict[f'cpu{i}.ipc'] = [ data[f'cpu{i}.ipc'][x] for x in indexs]\n",
    "        cycle_dict[f'cpu{i}.cycle'] = [data[f'cpu{i}.numCycles'][x] for x in indexs]\n",
    "        misses_dict[f'l3_misses{i}'] = [data[f'l3.demand_misses::.cpu{i}'][x] for x in indexs]\n",
    "        mpki_dict[f'l3_mpki{i}'] = [data[f'l3.demand_misses::.cpu{i}'][x]/data[f'cpu{i}.committedInsts'][x]/1000 for x in indexs]\n",
    "    for i,d in enumerate(all_dicts):\n",
    "        df = pd.DataFrame(d,index=indexs)\n",
    "        # df.loc['avg'] = df.mean()\n",
    "        if d == cycle_dict or d == misses_dict:\n",
    "            df.style.format('{:d}')\n",
    "            pass\n",
    "        else:\n",
    "            df.style.format(precision=5)\n",
    "        # df.to_csv(f'df{i}.csv')\n",
    "        print(df.to_string(index=False))\n",
    "    for d in all_dicts:\n",
    "        big_dict.update(d)\n",
    "    df = pd.DataFrame(big_dict,index=indexs)\n",
    "    # df.to_csv(f'df{j}.csv',index=False,sep='\\t')\n",
    "    print(df.to_string(index=False))"
   ]
  },
  {
   "cell_type": "code",
   "execution_count": 4,
   "metadata": {},
   "outputs": [
    {
     "name": "stdout",
     "output_type": "stream",
     "text": [
      "=====================\n",
      "stage 0\n",
      "=====================\n",
      "1.569763 1.536737 1.602853 1.570503 6124212.0 4.804665e+06 6109779.0 5.586254e+06 16459.666667 11854.333333 18206.0 15664.666667\n",
      "=====================\n",
      "stage 1\n",
      "=====================\n",
      "1.555854 1.541661 1.560476 1.56189 6.789281e+06 4.634665e+06 6.322114e+06 6368375.0 19335.666667 13073.333333 19583.0 19878.0\n"
     ]
    }
   ],
   "source": [
    "import numpy as np\n",
    "import pandas as pd\n",
    "import json\n",
    "import utils.insert_avg_dict as iad\n",
    "json_path = '/nfs/home/zhangchuanqi/lvna/5g/ff-reshape/log/new_hw_test/period_hmmer_o3_0-period_hmmer_o3_3-period_hmmer_o2_0-period_hmmer_o2_2/2560kBLLC/9tti/try-waymask/l3-nopart/l2-nopart/8period.json'\n",
    "ncore=4\n",
    "last_nsamples=8\n",
    "stage_len=4\n",
    "nstage = last_nsamples // stage_len\n",
    "with open(json_path) as f:\n",
    "    data = json.load(f)\n",
    "iad.insert_avg_dict(data,last_nsamples=last_nsamples)\n",
    "\n",
    "for j in range(nstage):\n",
    "    print('=====================')\n",
    "    print(f'stage {j}')\n",
    "    print('=====================')\n",
    "    indexs = list(range(j*stage_len+1,(j+1)*stage_len))\n",
    "    ipc_dict = {}\n",
    "    cycle_dict = {}\n",
    "    mpki_dict = {}\n",
    "    misses_dict = {}\n",
    "    # all_dicts = [ipc_dict,cycle_dict,mpki_dict,misses_dict]\n",
    "    all_dicts = [ipc_dict,cycle_dict,misses_dict]\n",
    "    big_dict = {}\n",
    "    for i in range(ncore):\n",
    "        ipc_dict[f'cpu{i}.ipc'] = [ data[f'cpu{i}.ipc'][x] for x in indexs]\n",
    "        cycle_dict[f'cpu{i}.cycle'] = [data[f'cpu{i}.numCycles'][x] for x in indexs]\n",
    "        misses_dict[f'l3_misses{i}'] = [data[f'l3.demand_misses::.cpu{i}'][x] for x in indexs]\n",
    "        mpki_dict[f'l3_mpki{i}'] = [data[f'l3.demand_misses::.cpu{i}'][x]/data[f'cpu{i}.committedInsts'][x]/1000 for x in indexs]\n",
    "\n",
    "    for d in all_dicts:\n",
    "        big_dict.update(d)\n",
    "    df = pd.DataFrame(big_dict,index=indexs)\n",
    "    # df.to_csv(f'df{j}.csv',index=False,sep='\\t')\n",
    "    mean_df = pd.DataFrame(columns=df.columns)\n",
    "    mean_df.loc['avg'] = df.mean()\n",
    "    print(mean_df.to_string(index=False,header=False))"
   ]
  },
  {
   "cell_type": "code",
   "execution_count": 12,
   "metadata": {},
   "outputs": [
    {
     "name": "stdout",
     "output_type": "stream",
     "text": [
      "   cpu0.ipc  cpu1.ipc\n",
      "0         1         2\n",
      "1         1         2\n"
     ]
    },
    {
     "data": {
      "text/plain": [
       "2"
      ]
     },
     "execution_count": 12,
     "metadata": {},
     "output_type": "execute_result"
    }
   ],
   "source": [
    "import pandas as pd\n",
    "new_dict = {\n",
    "    'cpu0.ipc':1,\n",
    "    'cpu1.ipc':2,\n",
    "}\n",
    "df = pd.DataFrame()\n",
    "\n",
    "new_df = pd.DataFrame(new_dict,index=[0])\n",
    "new_1_df = pd.DataFrame(new_dict,index=[0])\n",
    "\n",
    "a_df = pd.concat([df,new_df,new_1_df],ignore_index=True)\n",
    "print(a_df)\n",
    "len(a_df)\n"
   ]
  }
 ],
 "metadata": {
  "kernelspec": {
   "display_name": "Python 3.8.10 64-bit",
   "language": "python",
   "name": "python3"
  },
  "language_info": {
   "codemirror_mode": {
    "name": "ipython",
    "version": 3
   },
   "file_extension": ".py",
   "mimetype": "text/x-python",
   "name": "python",
   "nbconvert_exporter": "python",
   "pygments_lexer": "ipython3",
   "version": "3.8.10 (default, Nov 14 2022, 12:59:47) \n[GCC 9.4.0]"
  },
  "orig_nbformat": 4,
  "vscode": {
   "interpreter": {
    "hash": "e7370f93d1d0cde622a1f8e1c04877d8463912d04d973331ad4851f04de6915a"
   }
  }
 },
 "nbformat": 4,
 "nbformat_minor": 2
}
