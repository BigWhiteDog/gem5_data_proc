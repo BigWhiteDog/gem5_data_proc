{
 "cells": [
  {
   "cell_type": "code",
   "execution_count": null,
   "metadata": {},
   "outputs": [],
   "source": [
    "import os\n",
    "import numpy as np\n",
    "import numpy as np\n",
    "import argparse\n",
    "import re\n",
    "import sqlite3\n",
    "\n",
    "import matplotlib\n",
    "import matplotlib.pyplot as plt\n",
    "from matplotlib.pyplot import MultipleLocator\n",
    "from matplotlib import ticker\n",
    "\n",
    "db_path = '/nfs/home/zhangchuanqi/lvna/for_xs/catlog/single-profiling/xalancbmk/l3-8/hm.db'\n",
    "con = sqlite3.connect(db_path)\n",
    "cur = con.cursor()"
   ]
  },
  {
   "cell_type": "code",
   "execution_count": null,
   "metadata": {},
   "outputs": [],
   "source": [
    "max_cnt10_query = \"SELECT SETIDX,count(*) FROM HitMissTrace group by SETIDX ORDER BY count(*) DESC LIMIT 10\"\n",
    "\n",
    "f = cur.execute(max_cnt10_query)\n",
    "max_setidx_cnt = [x for x in f]\n",
    "print(max_setidx_cnt)"
   ]
  },
  {
   "cell_type": "code",
   "execution_count": null,
   "metadata": {},
   "outputs": [],
   "source": [
    "max_seti = max_setidx_cnt[0][0]\n",
    "max_seti_cnt = max_setidx_cnt[0][1]\n"
   ]
  },
  {
   "cell_type": "code",
   "execution_count": null,
   "metadata": {},
   "outputs": [],
   "source": [
    "def get_seti_hitmiss(cur,seti):\n",
    "    query = f\"SELECT ISMISS FROM HitMissTrace WHERE SETIDX={seti}\"\n",
    "    f = cur.execute(query)\n",
    "    cnt_list = [x[0] for x in f]\n",
    "    return cnt_list\n"
   ]
  },
  {
   "cell_type": "code",
   "execution_count": 5,
   "metadata": {},
   "outputs": [
    {
     "name": "stdout",
     "output_type": "stream",
     "text": [
      "[(115711960,)]\n"
     ]
    }
   ],
   "source": [
    "all_set = 16384\n",
    "class SaturatedInteger:\n",
    "    def __init__(self, val, lo, hi):\n",
    "        self.real, self.lo, self.hi = val, lo, hi\n",
    "\n",
    "    def __add__(self, other):\n",
    "        return min(self.real + other.real, self.hi)\n",
    "\n",
    "    def __sub__(self, other):\n",
    "        return max(self.real - other.real, self.lo)\n",
    "\n",
    "    def isSaturated(self):\n",
    "        return self.real == self.hi\n",
    "    def isLowSaturated(self):\n",
    "        return self.real == self.lo\n",
    "\n",
    "    def isHighHalf(self):\n",
    "        return self.real > (self.hi + self.lo)/2\n",
    "    def idLowHalf(self):\n",
    "        return self.real <= (self.hi + self.lo)/2\n",
    "\n",
    "    def isHighPortion(self,portion):\n",
    "        return self.real > self.hi*portion + self.lo*(1-portion)\n",
    "    def isLowPortion(self,portion):\n",
    "        return self.real <= self.hi*portion + self.lo*(1-portion)\n",
    "\n",
    "    def __get__(self):\n",
    "        return self.real\n",
    "    def __set__(self, val):\n",
    "        if val > self.hi:\n",
    "            self.real = self.hi\n",
    "        elif val < self.lo:\n",
    "            self.real = self.lo\n",
    "        else:\n",
    "            self.real = val\n",
    "\n",
    "max_time_query = \"SELECT max(STAMP) FROM HitMissTrace\"\n",
    "\n",
    "f = cur.execute(max_time_query)\n",
    "out_res = [x for x in f]\n",
    "print(out_res)"
   ]
  }
 ],
 "metadata": {
  "kernelspec": {
   "display_name": "Python 3.8.10 64-bit",
   "language": "python",
   "name": "python3"
  },
  "language_info": {
   "codemirror_mode": {
    "name": "ipython",
    "version": 3
   },
   "file_extension": ".py",
   "mimetype": "text/x-python",
   "name": "python",
   "nbconvert_exporter": "python",
   "pygments_lexer": "ipython3",
   "version": "3.8.10"
  },
  "orig_nbformat": 4,
  "vscode": {
   "interpreter": {
    "hash": "e7370f93d1d0cde622a1f8e1c04877d8463912d04d973331ad4851f04de6915a"
   }
  }
 },
 "nbformat": 4,
 "nbformat_minor": 2
}
