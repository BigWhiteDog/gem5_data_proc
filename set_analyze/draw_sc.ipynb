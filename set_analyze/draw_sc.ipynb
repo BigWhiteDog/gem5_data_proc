{
 "cells": [
  {
   "cell_type": "code",
   "execution_count": null,
   "metadata": {},
   "outputs": [],
   "source": [
    "import os\n",
    "import numpy as np\n",
    "import numpy as np\n",
    "import argparse\n",
    "import re\n",
    "import sqlite3\n",
    "\n",
    "import matplotlib\n",
    "import matplotlib.pyplot as plt\n",
    "from matplotlib.pyplot import MultipleLocator\n",
    "from matplotlib import ticker\n",
    "\n",
    "db_path = '/nfs/home/zhangchuanqi/lvna/for_xs/catlog/newdb50M-single-profiling/zeusmp/l3-5/hm.db'\n",
    "con = sqlite3.connect(db_path)\n",
    "cur = con.cursor()"
   ]
  },
  {
   "cell_type": "code",
   "execution_count": null,
   "metadata": {},
   "outputs": [],
   "source": [
    "new_q = 'SELECT REQID,ISMISS,SITE,hm.STAMP,hm.tag,hp.wayidx,hm.ID FROM HitMissTrace hm LEFT JOIN HitPosTrace hp ON hm.STAMP=hp.STAMP WHERE hp.ISINS=0 ORDER BY hm.ID LIMIT 20;'\n",
    "\n",
    "a_q = 'SELECT ISMISS,SITE,hm.STAMP,hp.wayidx,hm.ID,ISINS FROM HitMissTrace hm OUTER JOIN HitPosTrace hp ON hm.STAMP=hp.STAMP '\\\n",
    "    'where ismiss=1 ORDER BY hm.ID LIMIT 20;'\n",
    "\n",
    "f = cur.execute(a_q)\n",
    "out_res = [x for x in f]\n",
    "print(out_res)"
   ]
  },
  {
   "cell_type": "code",
   "execution_count": 4,
   "metadata": {},
   "outputs": [
    {
     "name": "stdout",
     "output_type": "stream",
     "text": [
      "[0 0 0 1 1 1 2 2 2 3 3 3 4 4 4 5 5 5]\n",
      "[0 1 2 3 4 5 0 1 2 3 4 5 0 1 2 3 4 5]\n",
      "[1 5 9]\n",
      "[[0 1]\n",
      " [2 3]\n",
      " [4 5]]\n",
      "[[1 0]\n",
      " [3 2]\n",
      " [5 4]]\n"
     ]
    }
   ],
   "source": [
    "import numpy as np\n",
    "a = np.arange(6)\n",
    "\n",
    "b = np.repeat(a, 3)\n",
    "print(b)\n",
    "c = np.tile(a,3)\n",
    "print(c)\n",
    "\n",
    "na = a.reshape(3,2)\n",
    "\n",
    "print(a.reshape(3,2).sum(axis=1))\n",
    "\n",
    "print(na)\n",
    "print(np.flip(na,axis=1))"
   ]
  },
  {
   "cell_type": "code",
   "execution_count": 5,
   "metadata": {},
   "outputs": [
    {
     "name": "stdout",
     "output_type": "stream",
     "text": [
      "0.0000%\n",
      "6.2500%\n",
      "12.5000%\n",
      "18.7500%\n",
      "25.0000%\n",
      "31.2500%\n",
      "37.5000%\n",
      "43.7500%\n",
      "50.0000%\n",
      "56.2500%\n",
      "62.5000%\n",
      "68.7500%\n",
      "75.0000%\n",
      "81.2500%\n",
      "87.5000%\n",
      "93.7500%\n"
     ]
    }
   ],
   "source": [
    "grow_len = 32\n",
    "for i in range(grow_len):\n",
    "    print(f\"{i/grow_len:.4%}\")"
   ]
  },
  {
   "cell_type": "code",
   "execution_count": 10,
   "metadata": {},
   "outputs": [],
   "source": [
    "import re\n",
    "a = 'fullgrow6in32'\n",
    "if a == 'atd' or re.search(r'fullgrow(\\d+)in16',a):\n",
    "    print('match')"
   ]
  },
  {
   "cell_type": "code",
   "execution_count": 4,
   "metadata": {},
   "outputs": [
    {
     "name": "stdout",
     "output_type": "stream",
     "text": [
      "0 [1, 2, 3, 4, 5, 6, 7, 8]\n",
      "1 [9, 10, 11, 12, 13, 14, 15, 16]\n",
      "2 [17, 18, 19, 20, 21, 22, 23, 24]\n",
      "3 [25, 26, 27, 28, 29, 30, 31, 32]\n",
      "4 [33, 34, 35, 36, 37, 38, 39, 40]\n",
      "5 [41, 42, 43, 44, 45, 46, 47, 48]\n",
      "6 [49, 50, 51, 52, 53, 54, 55, 56]\n",
      "7 [57, 58, 59, 60, 61, 62, 63, 64]\n"
     ]
    }
   ],
   "source": [
    "full_t = list(range(1, 64+1))\n",
    "for i in range(8):\n",
    "    p = i\n",
    "    x = full_t[p*8: (p+1)*8]\n",
    "    print(i,x)"
   ]
  }
 ],
 "metadata": {
  "kernelspec": {
   "display_name": "Python 3.8.10 64-bit",
   "language": "python",
   "name": "python3"
  },
  "language_info": {
   "codemirror_mode": {
    "name": "ipython",
    "version": 3
   },
   "file_extension": ".py",
   "mimetype": "text/x-python",
   "name": "python",
   "nbconvert_exporter": "python",
   "pygments_lexer": "ipython3",
   "version": "3.8.10 (default, Nov 14 2022, 12:59:47) \n[GCC 9.4.0]"
  },
  "orig_nbformat": 4,
  "vscode": {
   "interpreter": {
    "hash": "e7370f93d1d0cde622a1f8e1c04877d8463912d04d973331ad4851f04de6915a"
   }
  }
 },
 "nbformat": 4,
 "nbformat_minor": 2
}
