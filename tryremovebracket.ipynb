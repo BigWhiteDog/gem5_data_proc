{
 "cells": [
  {
   "cell_type": "code",
   "execution_count": 6,
   "metadata": {},
   "outputs": [
    {
     "name": "stdout",
     "output_type": "stream",
     "text": [
      "<b>unshare </b> [options] <i>program</i> \n",
      "<b>fsck</b> [<b>-lsAVRTMNP</b>] [options] [options] [<b>-t</b> <i>fstype</i>] [<i>filesystem</i>...] [<b>--</b>] [<i>fs-specific-options</i>]</p>\n"
     ]
    }
   ],
   "source": [
    "a = '<b>unshare </b> [options] [<i>program</i> [<i>arguments</i>]]'\n",
    "'<b>unshare </b> [options] <i>program</i>'\n",
    "new_s = '<b>fsck</b> [<b>-lsAVRTMNP</b>] [<b>-r</b> [<i>fd</i>]] [<b>-C</b> [<i>fd</i>]] [<b>-t</b> <i>fstype</i>] [<i>filesystem</i>...] [<b>--</b>] [<i>fs-specific-options</i>]</p>'\n",
    "'<b>fsck</b> [<b>-lsAVRTMNP</b>] [options] [<b>-t</b> <i>fstype</i>] [<i>filesystem</i>...] [<b>--</b>] [<i>fs-specific-options</i>]</p>'\n",
    "\n",
    "def remove_in_multi_bracket(s):\n",
    "    stack = []\n",
    "    out_res = ''\n",
    "    for c in s:\n",
    "        if c == '[':\n",
    "            stack.append('[')\n",
    "        elif c == ']':\n",
    "            if len(stack) == 1:\n",
    "                top_stack = stack.pop()\n",
    "                if top_stack[0] == '[':\n",
    "                    top_stack += ']'\n",
    "                out_res += top_stack\n",
    "            elif len(stack) > 1:\n",
    "                # print(stack)\n",
    "                tmps = stack[-2]\n",
    "                if tmps.startswith('[<b>-'):\n",
    "                    stack[-2] = '[options'\n",
    "                else:\n",
    "                    stack[-2] = stack[-2][1:]\n",
    "                stack.pop()\n",
    "            else:\n",
    "                assert(0)\n",
    "        elif not stack:\n",
    "            out_res += c\n",
    "        elif len(stack) == 1:\n",
    "            stack[-1] += c\n",
    "    return out_res\n",
    "\n",
    "print(remove_in_multi_bracket(a))\n",
    "print(remove_in_multi_bracket(new_s))\n"
   ]
  }
 ],
 "metadata": {
  "kernelspec": {
   "display_name": "Python 3",
   "language": "python",
   "name": "python3"
  },
  "language_info": {
   "codemirror_mode": {
    "name": "ipython",
    "version": 3
   },
   "file_extension": ".py",
   "mimetype": "text/x-python",
   "name": "python",
   "nbconvert_exporter": "python",
   "pygments_lexer": "ipython3",
   "version": "3.8.10 (default, Nov 14 2022, 12:59:47) \n[GCC 9.4.0]"
  },
  "orig_nbformat": 4,
  "vscode": {
   "interpreter": {
    "hash": "e7370f93d1d0cde622a1f8e1c04877d8463912d04d973331ad4851f04de6915a"
   }
  }
 },
 "nbformat": 4,
 "nbformat_minor": 2
}
